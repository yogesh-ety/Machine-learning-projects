{
 "cells": [
  {
   "cell_type": "markdown",
   "source": [
    "# Exercise 1 - Linear and Logistic Regression with Error Estimation"
   ],
   "metadata": {}
  },
  {
   "cell_type": "markdown",
   "source": [
    "## a) Linear regression"
   ],
   "metadata": {
    "tags": []
   }
  },
  {
   "cell_type": "markdown",
   "source": [
    "### Program 1 - Implementation of Linear Regression (From scratch and using Sklearn)"
   ],
   "metadata": {}
  },
  {
   "cell_type": "markdown",
   "source": [
    "#### AIM:\n",
    "\n",
    "\n",
    "To implement linear regression in python from scratch and using scikit learn"
   ],
   "metadata": {
    "tags": []
   }
  },
  {
   "cell_type": "markdown",
   "source": [
    "#### FORMULA:\n",
    "\n",
    "\n",
    "Equation of the regression line, $y = b_0 + b_1 x$\n",
    "\n",
    "$$\n",
    "\\newcommand{\\vect}{\\mathbf}\n",
    "\\begin{align}\n",
    "b_1 &= \\frac{\\displaystyle \\sum_{i=1}^{m}(x_i-\\bar{x})(y_i-\\bar{y})}{\\displaystyle \\sum_{i=1}^{m}(x_i-\\bar{x})^2}\n",
    "= \\frac{(\\vect{x}-\\bar{x})^T(\\vect{y}-\\bar{y})}{(\\vect{x}-\\bar{x})^T(\\vect{x}-\\bar{x})}\n",
    "\\\\\n",
    "b_0 &= \\bar{y}-b_1\\bar{x} \n",
    "\\\\\n",
    "\\text{RMSE} &= \\sqrt{\\frac{1}{m}\\sum_{i=1}^{m}(y_i-\\hat{y_i})^2}\n",
    "= \\sqrt{\\frac{(\\vect{y}-\\hat{\\vect{y}})^T(\\vect{y}-\\hat{\\vect{y}})}{m}} \n",
    "\\\\\n",
    "\\text{SS}_{\\text{tot}} &= \\sum_{i=1}^{m}(y_i - \\bar{y})^2 = (\\vect{y}-\\bar{y})^T(\\vect{y}-\\bar{y})\n",
    "\\\\\n",
    "\\text{SS}_{\\text{res}} &= \\sum_{i=1}^{m}(y_i - \\hat{y}_i)^2 = (\\vect{y}-\\hat{\\vect{y}})^T(\\vect{y}-\\hat{\\vect{y}})\n",
    "\\\\\n",
    "R^{2} \\text{score} &= 1-\\frac{\\text{SS}_{\\text{res}}}{\\text{SS}_{\\text{tot}}}\n",
    "\\end{align}\n",
    "$$\n",
    "where,  \n",
    "$\\vect{x} = (x_1,x_2,...,x_n)$ - input vector  \n",
    "$\\vect{y} = (y_1,y_2,...,y_n)$ - output vector  \n",
    "$\\bar{x}$ - mean of $\\vect{x}$  \n",
    "$\\bar{y}$ - mean of $\\vect{y}$  \n",
    "$\\hat{\\vect{y}} = (\\hat{y}_1,\\hat{y}_2,...,\\hat{y}_n)$ - Predicted output vector  "
   ],
   "metadata": {}
  },
  {
   "cell_type": "markdown",
   "source": [
    "#### Part 1 - Importing modules and defining class for Linear Regression"
   ],
   "metadata": {}
  },
  {
   "cell_type": "code",
   "execution_count": 1,
   "source": [
    "import numpy as np\n",
    "import pandas as pd\n",
    "import matplotlib.pyplot as plt"
   ],
   "outputs": [],
   "metadata": {}
  },
  {
   "cell_type": "code",
   "execution_count": 2,
   "source": [
    "class LinearRegression:\n",
    "    def fit(self,X,y):\n",
    "        m = X.shape[0]\n",
    "        X_mean, y_mean = np.mean(X), np.mean(y)\n",
    "        X_mean_diff, y_mean_diff = X-X_mean, y-y_mean\n",
    "        self.b1 = (X_mean_diff @ y_mean_diff) / (X_mean_diff @ X_mean_diff)\n",
    "        self.b0 = y_mean - (self.b1 * X_mean)\n",
    "        print(f\"(b0,b1):({self.b0:.3f},{self.b1:.3f})\")\n",
    "        return self\n",
    "    \n",
    "    def predict(self,X):\n",
    "        return self.b0 + X*self.b1\n",
    "\n",
    "    def evaluate(self,X,y):\n",
    "        y_pred = self.predict(X)\n",
    "        y_diff,y_mean_diff  = y-y_pred , y-np.mean(y)\n",
    "        rmse = np.sqrt(y_diff @ y_diff/X.shape[0])\n",
    "        ss_tot = y_mean_diff @ y_mean_diff\n",
    "        ss_res = y_diff @ y_diff\n",
    "        r2 = 1 - ss_res/ss_tot\n",
    "        print(\"Root mean squared Error:\",rmse)\n",
    "        print(\"R^2 value:\",r2)"
   ],
   "outputs": [],
   "metadata": {}
  },
  {
   "cell_type": "markdown",
   "source": [
    "#### Part 2 - Ploting function for regression"
   ],
   "metadata": {}
  },
  {
   "cell_type": "code",
   "execution_count": 3,
   "source": [
    "def regression_plot(X,y,model,title=\"\"):\n",
    "    plt.figure(figsize=(14,7))\n",
    "    plt.title(title)\n",
    "    plt.xlabel(\"Head Size(cm^3)\")\n",
    "    plt.ylabel(\"Brain Weights(grams)\")\n",
    "    \n",
    "    x_line = np.array([np.min(X) - 100,np.max(X) + 100]).reshape(-1,1)\n",
    "    y_line = model.predict(x_line)\n",
    "    \n",
    "    plt.scatter(X, y,c='orange', label='Original Data Points')\n",
    "    plt.plot(x_line, y_line,linewidth=4, label='Regression Line')\n",
    "    plt.legend()"
   ],
   "outputs": [],
   "metadata": {}
  },
  {
   "cell_type": "markdown",
   "source": [
    "#### Part 3 - Loading and processing the dataset"
   ],
   "metadata": {}
  },
  {
   "cell_type": "code",
   "execution_count": 4,
   "source": [
    "data = pd.read_csv('./datasets/headbrain.csv')\n",
    "print(\"size:\",data.size,\"; shape\",data.shape)\n",
    "data.head()"
   ],
   "outputs": [
    {
     "output_type": "stream",
     "name": "stdout",
     "text": [
      "size: 948 ; shape (237, 4)\n"
     ]
    },
    {
     "output_type": "execute_result",
     "data": {
      "text/plain": [
       "   Gender  Age Range  Head Size(cm^3)  Brain Weight(grams)\n",
       "0       1          1             4512                 1530\n",
       "1       1          1             3738                 1297\n",
       "2       1          1             4261                 1335\n",
       "3       1          1             3777                 1282\n",
       "4       1          1             4177                 1590"
      ],
      "text/html": [
       "<div>\n",
       "<style scoped>\n",
       "    .dataframe tbody tr th:only-of-type {\n",
       "        vertical-align: middle;\n",
       "    }\n",
       "\n",
       "    .dataframe tbody tr th {\n",
       "        vertical-align: top;\n",
       "    }\n",
       "\n",
       "    .dataframe thead th {\n",
       "        text-align: right;\n",
       "    }\n",
       "</style>\n",
       "<table border=\"1\" class=\"dataframe\">\n",
       "  <thead>\n",
       "    <tr style=\"text-align: right;\">\n",
       "      <th></th>\n",
       "      <th>Gender</th>\n",
       "      <th>Age Range</th>\n",
       "      <th>Head Size(cm^3)</th>\n",
       "      <th>Brain Weight(grams)</th>\n",
       "    </tr>\n",
       "  </thead>\n",
       "  <tbody>\n",
       "    <tr>\n",
       "      <th>0</th>\n",
       "      <td>1</td>\n",
       "      <td>1</td>\n",
       "      <td>4512</td>\n",
       "      <td>1530</td>\n",
       "    </tr>\n",
       "    <tr>\n",
       "      <th>1</th>\n",
       "      <td>1</td>\n",
       "      <td>1</td>\n",
       "      <td>3738</td>\n",
       "      <td>1297</td>\n",
       "    </tr>\n",
       "    <tr>\n",
       "      <th>2</th>\n",
       "      <td>1</td>\n",
       "      <td>1</td>\n",
       "      <td>4261</td>\n",
       "      <td>1335</td>\n",
       "    </tr>\n",
       "    <tr>\n",
       "      <th>3</th>\n",
       "      <td>1</td>\n",
       "      <td>1</td>\n",
       "      <td>3777</td>\n",
       "      <td>1282</td>\n",
       "    </tr>\n",
       "    <tr>\n",
       "      <th>4</th>\n",
       "      <td>1</td>\n",
       "      <td>1</td>\n",
       "      <td>4177</td>\n",
       "      <td>1590</td>\n",
       "    </tr>\n",
       "  </tbody>\n",
       "</table>\n",
       "</div>"
      ]
     },
     "metadata": {},
     "execution_count": 4
    }
   ],
   "metadata": {}
  },
  {
   "cell_type": "markdown",
   "source": [
    "#### Part 4 - Implementing Linear Regression from scratch"
   ],
   "metadata": {}
  },
  {
   "cell_type": "code",
   "execution_count": 5,
   "source": [
    "X = data['Head Size(cm^3)'].values\n",
    "y = data['Brain Weight(grams)'].values"
   ],
   "outputs": [],
   "metadata": {}
  },
  {
   "cell_type": "code",
   "execution_count": 6,
   "source": [
    "lin_reg_model= LinearRegression()\n",
    "lin_reg_model.fit(X,y)\n",
    "regression_plot(X,y,lin_reg_model,title=\"Regression Using Oridinary Least Squares Method\")\n",
    "lin_reg_model.evaluate(X,y)"
   ],
   "outputs": [
    {
     "output_type": "stream",
     "name": "stdout",
     "text": [
      "(b0,b1):(325.573,0.263)\n",
      "Root mean squared Error: 72.1206213783709\n",
      "R^2 value: 0.639311719957\n"
     ]
    },
    {
     "output_type": "display_data",
     "data": {
      "text/plain": [
       "<Figure size 1008x504 with 1 Axes>"
      ],
      "image/png": "[encoded data removed]"
     },
     "metadata": {
      "needs_background": "light"
     }
    }
   ],
   "metadata": {}
  },
  {
   "cell_type": "markdown",
   "source": [
    "#### Part 5 - Implementing Linear Regression using Scikit Learn"
   ],
   "metadata": {}
  },
  {
   "cell_type": "code",
   "execution_count": 7,
   "source": [
    "from sklearn.linear_model import LinearRegression as SkLinearRegression\n",
    "from sklearn.metrics import mean_squared_error"
   ],
   "outputs": [],
   "metadata": {}
  },
  {
   "cell_type": "code",
   "execution_count": 8,
   "source": [
    "# sklearn requires 2d array for X values \n",
    "# thus we reshape X to X1 as follows\n",
    "X1 = X.reshape(-1,1)"
   ],
   "outputs": [],
   "metadata": {}
  },
  {
   "cell_type": "code",
   "execution_count": 9,
   "source": [
    "sk_lin_reg_model = SkLinearRegression().fit(X1, y)\n",
    "\n",
    "regression_plot(X1,y,sk_lin_reg_model,title=\"Linear Regression Using Scikit Learn\")\n",
    "\n",
    "y_hat = sk_lin_reg_model.predict(X1)\n",
    "rmse = np.sqrt(mean_squared_error(y, y_hat))\n",
    "r2_score = sk_lin_reg_model.score(X1, y)\n",
    "print(\"Root Mean Squared Error:\",rmse)\n",
    "print(\"R^2 value:\",r2_score)"
   ],
   "outputs": [
    {
     "output_type": "stream",
     "name": "stdout",
     "text": [
      "Root Mean Squared Error: 72.1206213783709\n",
      "R^2 value: 0.639311719957\n"
     ]
    },
    {
     "output_type": "display_data",
     "data": {
      "text/plain": [
       "<Figure size 1008x504 with 1 Axes>"
      ],
      "image/png": "[encoded data removed]"
     },
     "metadata": {
      "needs_background": "light"
     }
    }
   ],
   "metadata": {}
  },
  {
   "cell_type": "markdown",
   "source": [
    "## b) Logistic Regression"
   ],
   "metadata": {}
  },
  {
   "cell_type": "markdown",
   "source": [
    "### Program 1 - Preprocessing and implementing Logistic Regression on titanic dataset using Scikit Learn"
   ],
   "metadata": {}
  },
  {
   "cell_type": "markdown",
   "source": [
    "#### AIM:\n",
    "To preprocess and implement Logistic Regression in titanic dataset using Scikit Learn"
   ],
   "metadata": {}
  },
  {
   "cell_type": "markdown",
   "source": [
    "#### Part 1 - Importing modules and Loading the dataset"
   ],
   "metadata": {}
  },
  {
   "cell_type": "code",
   "execution_count": 10,
   "source": [
    "import pandas as pd\n",
    "import numpy as np\n",
    "import matplotlib.pyplot as plt\n",
    "import seaborn as sns\n",
    "\n",
    "titanic_df = pd.read_csv('./datasets/titanic.csv')\n",
    "titanic_df.head()"
   ],
   "outputs": [
    {
     "output_type": "execute_result",
     "data": {
      "text/plain": [
       "   PassengerId  Survived  Pclass  \\\n",
       "0            1         0       3   \n",
       "1            2         1       1   \n",
       "2            3         1       3   \n",
       "3            4         1       1   \n",
       "4            5         0       3   \n",
       "\n",
       "                                                Name     Sex   Age  SibSp  \\\n",
       "0                            Braund, Mr. Owen Harris    male  22.0      1   \n",
       "1  Cumings, Mrs. John Bradley (Florence Briggs Th...  female  38.0      1   \n",
       "2                             Heikkinen, Miss. Laina  female  26.0      0   \n",
       "3       Futrelle, Mrs. Jacques Heath (Lily May Peel)  female  35.0      1   \n",
       "4                           Allen, Mr. William Henry    male  35.0      0   \n",
       "\n",
       "   Parch            Ticket     Fare Cabin Embarked  \n",
       "0      0         A/5 21171   7.2500   NaN        S  \n",
       "1      0          PC 17599  71.2833   C85        C  \n",
       "2      0  STON/O2. 3101282   7.9250   NaN        S  \n",
       "3      0            113803  53.1000  C123        S  \n",
       "4      0            373450   8.0500   NaN        S  "
      ],
      "text/html": [
       "<div>\n",
       "<style scoped>\n",
       "    .dataframe tbody tr th:only-of-type {\n",
       "        vertical-align: middle;\n",
       "    }\n",
       "\n",
       "    .dataframe tbody tr th {\n",
       "        vertical-align: top;\n",
       "    }\n",
       "\n",
       "    .dataframe thead th {\n",
       "        text-align: right;\n",
       "    }\n",
       "</style>\n",
       "<table border=\"1\" class=\"dataframe\">\n",
       "  <thead>\n",
       "    <tr style=\"text-align: right;\">\n",
       "      <th></th>\n",
       "      <th>PassengerId</th>\n",
       "      <th>Survived</th>\n",
       "      <th>Pclass</th>\n",
       "      <th>Name</th>\n",
       "      <th>Sex</th>\n",
       "      <th>Age</th>\n",
       "      <th>SibSp</th>\n",
       "      <th>Parch</th>\n",
       "      <th>Ticket</th>\n",
       "      <th>Fare</th>\n",
       "      <th>Cabin</th>\n",
       "      <th>Embarked</th>\n",
       "    </tr>\n",
       "  </thead>\n",
       "  <tbody>\n",
       "    <tr>\n",
       "      <th>0</th>\n",
       "      <td>1</td>\n",
       "      <td>0</td>\n",
       "      <td>3</td>\n",
       "      <td>Braund, Mr. Owen Harris</td>\n",
       "      <td>male</td>\n",
       "      <td>22.0</td>\n",
       "      <td>1</td>\n",
       "      <td>0</td>\n",
       "      <td>A/5 21171</td>\n",
       "      <td>7.2500</td>\n",
       "      <td>NaN</td>\n",
       "      <td>S</td>\n",
       "    </tr>\n",
       "    <tr>\n",
       "      <th>1</th>\n",
       "      <td>2</td>\n",
       "      <td>1</td>\n",
       "      <td>1</td>\n",
       "      <td>Cumings, Mrs. John Bradley (Florence Briggs Th...</td>\n",
       "      <td>female</td>\n",
       "      <td>38.0</td>\n",
       "      <td>1</td>\n",
       "      <td>0</td>\n",
       "      <td>PC 17599</td>\n",
       "      <td>71.2833</td>\n",
       "      <td>C85</td>\n",
       "      <td>C</td>\n",
       "    </tr>\n",
       "    <tr>\n",
       "      <th>2</th>\n",
       "      <td>3</td>\n",
       "      <td>1</td>\n",
       "      <td>3</td>\n",
       "      <td>Heikkinen, Miss. Laina</td>\n",
       "      <td>female</td>\n",
       "      <td>26.0</td>\n",
       "      <td>0</td>\n",
       "      <td>0</td>\n",
       "      <td>STON/O2. 3101282</td>\n",
       "      <td>7.9250</td>\n",
       "      <td>NaN</td>\n",
       "      <td>S</td>\n",
       "    </tr>\n",
       "    <tr>\n",
       "      <th>3</th>\n",
       "      <td>4</td>\n",
       "      <td>1</td>\n",
       "      <td>1</td>\n",
       "      <td>Futrelle, Mrs. Jacques Heath (Lily May Peel)</td>\n",
       "      <td>female</td>\n",
       "      <td>35.0</td>\n",
       "      <td>1</td>\n",
       "      <td>0</td>\n",
       "      <td>113803</td>\n",
       "      <td>53.1000</td>\n",
       "      <td>C123</td>\n",
       "      <td>S</td>\n",
       "    </tr>\n",
       "    <tr>\n",
       "      <th>4</th>\n",
       "      <td>5</td>\n",
       "      <td>0</td>\n",
       "      <td>3</td>\n",
       "      <td>Allen, Mr. William Henry</td>\n",
       "      <td>male</td>\n",
       "      <td>35.0</td>\n",
       "      <td>0</td>\n",
       "      <td>0</td>\n",
       "      <td>373450</td>\n",
       "      <td>8.0500</td>\n",
       "      <td>NaN</td>\n",
       "      <td>S</td>\n",
       "    </tr>\n",
       "  </tbody>\n",
       "</table>\n",
       "</div>"
      ]
     },
     "metadata": {},
     "execution_count": 10
    }
   ],
   "metadata": {}
  },
  {
   "cell_type": "markdown",
   "source": [
    "#### Part 2 - Visualizing the dataset"
   ],
   "metadata": {}
  },
  {
   "cell_type": "code",
   "execution_count": 11,
   "source": [
    "def plot(title,plot_func,*args,**kwargs):\n",
    "    plt.title(title)\n",
    "    plot_func(*args,**kwargs)\n",
    "    plt.show()\n",
    "\n",
    "plot('Visualize Missing Data',\n",
    "   sns.heatmap,titanic_df.isnull(), cbar=False)\n",
    "plot(\"Survival vs Sex\",\n",
    "    sns.countplot,x='Survived', hue='Sex', data=titanic_df)\n",
    "plot(\"Survival vs Passenger Class\",\n",
    "    sns.countplot,x='Survived', hue='Pclass', data=titanic_df)\n",
    "plot(\"Histogram of Passengers Age\",\n",
    "    plt.hist,titanic_df[\"Age\"].dropna())\n",
    "plot(\"Histogram of ship Fare\",\n",
    "    plt.hist,titanic_df['Fare'])\n",
    "plot(\"Passenger class vs Age\",\n",
    "    sns.boxplot,x='Pclass', y='Age',data=titanic_df)"
   ],
   "outputs": [
    {
     "output_type": "display_data",
     "data": {
      "text/plain": [
       "<Figure size 432x288 with 1 Axes>"
      ],
      "image/png": "[encoded data removed]"
     },
     "metadata": {
      "needs_background": "light"
     }
    },
    {
     "output_type": "display_data",
     "data": {
      "text/plain": [
       "<Figure size 432x288 with 1 Axes>"
      ],
      "image/png": "[encoded data removed]"
     },
     "metadata": {
      "needs_background": "light"
     }
    },
    {
     "output_type": "display_data",
     "data": {
      "text/plain": [
       "<Figure size 432x288 with 1 Axes>"
      ],
      "image/png": "[encoded data removed]"
     },
     "metadata": {
      "needs_background": "light"
     }
    },
    {
     "output_type": "display_data",
     "data": {
      "text/plain": [
       "<Figure size 432x288 with 1 Axes>"
      ],
      "image/png": "[encoded data removed]"
     },
     "metadata": {
      "needs_background": "light"
     }
    },
    {
     "output_type": "display_data",
     "data": {
      "text/plain": [
       "<Figure size 432x288 with 1 Axes>"
      ],
      "image/png": "[encoded data removed]"
     },
     "metadata": {
      "needs_background": "light"
     }
    },
    {
     "output_type": "display_data",
     "data": {
      "text/plain": [
       "<Figure size 432x288 with 1 Axes>"
      ],
      "image/png": "[encoded data removed]"
     },
     "metadata": {
      "needs_background": "light"
     }
    }
   ],
   "metadata": {}
  },
  {
   "cell_type": "markdown",
   "source": [
    "#### Part 3 - Dealing with missing, categorial and irrelevant  data"
   ],
   "metadata": {}
  },
  {
   "cell_type": "code",
   "execution_count": 12,
   "source": [
    "mean_ages = {\n",
    "    p_class:titanic_df[titanic_df[\"Pclass\"]==p_class][\"Age\"].mean()\n",
    "    for p_class in titanic_df[\"Pclass\"].unique()\n",
    "}\n",
    "\n",
    "def impute_missing_age(columns):\n",
    "    age , p_class = columns\n",
    "    if pd.isnull(age):\n",
    "        return mean_ages[p_class]\n",
    "    return age\n",
    "\n",
    "titanic_df['Age'] = titanic_df[['Age', 'Pclass']].apply(\n",
    "    impute_missing_age,axis = 1\n",
    ")\n",
    "plot(\"Missing Passengers Age Data\",\n",
    "    sns.heatmap,titanic_df.isnull(), cbar=False)"
   ],
   "outputs": [
    {
     "output_type": "display_data",
     "data": {
      "text/plain": [
       "<Figure size 432x288 with 1 Axes>"
      ],
      "image/png": "[encoded data removed]"
     },
     "metadata": {
      "needs_background": "light"
     }
    }
   ],
   "metadata": {}
  },
  {
   "cell_type": "code",
   "execution_count": 13,
   "source": [
    "titanic_df.drop('Cabin', axis=1, inplace = True)\n",
    "titanic_df.dropna(inplace = True)\n",
    "sex_data = pd.get_dummies(titanic_df['Sex'], drop_first = True)\n",
    "embarked_data = pd.get_dummies(titanic_df['Embarked'], drop_first = True)\n",
    "titanic_df = pd.concat([titanic_df, sex_data, embarked_data], axis = 1)\n",
    "titanic_df.drop(\n",
    "    ['Name', 'PassengerId', 'Ticket', 'Sex', 'Embarked'], \n",
    "    axis =1, inplace = True\n",
    ")\n",
    "titanic_df.head()"
   ],
   "outputs": [
    {
     "output_type": "execute_result",
     "data": {
      "text/plain": [
       "   Survived  Pclass   Age  SibSp  Parch     Fare  male  Q  S\n",
       "0         0       3  22.0      1      0   7.2500     1  0  1\n",
       "1         1       1  38.0      1      0  71.2833     0  0  0\n",
       "2         1       3  26.0      0      0   7.9250     0  0  1\n",
       "3         1       1  35.0      1      0  53.1000     0  0  1\n",
       "4         0       3  35.0      0      0   8.0500     1  0  1"
      ],
      "text/html": [
       "<div>\n",
       "<style scoped>\n",
       "    .dataframe tbody tr th:only-of-type {\n",
       "        vertical-align: middle;\n",
       "    }\n",
       "\n",
       "    .dataframe tbody tr th {\n",
       "        vertical-align: top;\n",
       "    }\n",
       "\n",
       "    .dataframe thead th {\n",
       "        text-align: right;\n",
       "    }\n",
       "</style>\n",
       "<table border=\"1\" class=\"dataframe\">\n",
       "  <thead>\n",
       "    <tr style=\"text-align: right;\">\n",
       "      <th></th>\n",
       "      <th>Survived</th>\n",
       "      <th>Pclass</th>\n",
       "      <th>Age</th>\n",
       "      <th>SibSp</th>\n",
       "      <th>Parch</th>\n",
       "      <th>Fare</th>\n",
       "      <th>male</th>\n",
       "      <th>Q</th>\n",
       "      <th>S</th>\n",
       "    </tr>\n",
       "  </thead>\n",
       "  <tbody>\n",
       "    <tr>\n",
       "      <th>0</th>\n",
       "      <td>0</td>\n",
       "      <td>3</td>\n",
       "      <td>22.0</td>\n",
       "      <td>1</td>\n",
       "      <td>0</td>\n",
       "      <td>7.2500</td>\n",
       "      <td>1</td>\n",
       "      <td>0</td>\n",
       "      <td>1</td>\n",
       "    </tr>\n",
       "    <tr>\n",
       "      <th>1</th>\n",
       "      <td>1</td>\n",
       "      <td>1</td>\n",
       "      <td>38.0</td>\n",
       "      <td>1</td>\n",
       "      <td>0</td>\n",
       "      <td>71.2833</td>\n",
       "      <td>0</td>\n",
       "      <td>0</td>\n",
       "      <td>0</td>\n",
       "    </tr>\n",
       "    <tr>\n",
       "      <th>2</th>\n",
       "      <td>1</td>\n",
       "      <td>3</td>\n",
       "      <td>26.0</td>\n",
       "      <td>0</td>\n",
       "      <td>0</td>\n",
       "      <td>7.9250</td>\n",
       "      <td>0</td>\n",
       "      <td>0</td>\n",
       "      <td>1</td>\n",
       "    </tr>\n",
       "    <tr>\n",
       "      <th>3</th>\n",
       "      <td>1</td>\n",
       "      <td>1</td>\n",
       "      <td>35.0</td>\n",
       "      <td>1</td>\n",
       "      <td>0</td>\n",
       "      <td>53.1000</td>\n",
       "      <td>0</td>\n",
       "      <td>0</td>\n",
       "      <td>1</td>\n",
       "    </tr>\n",
       "    <tr>\n",
       "      <th>4</th>\n",
       "      <td>0</td>\n",
       "      <td>3</td>\n",
       "      <td>35.0</td>\n",
       "      <td>0</td>\n",
       "      <td>0</td>\n",
       "      <td>8.0500</td>\n",
       "      <td>1</td>\n",
       "      <td>0</td>\n",
       "      <td>1</td>\n",
       "    </tr>\n",
       "  </tbody>\n",
       "</table>\n",
       "</div>"
      ]
     },
     "metadata": {},
     "execution_count": 13
    }
   ],
   "metadata": {}
  },
  {
   "cell_type": "markdown",
   "source": [
    "#### Part 4 - Implementing Logistic Regression using Scikit Learn"
   ],
   "metadata": {}
  },
  {
   "cell_type": "code",
   "execution_count": 14,
   "source": [
    "from sklearn.model_selection import train_test_split\n",
    "from sklearn.linear_model import LogisticRegression\n",
    "from sklearn.metrics import classification_report\n",
    "from sklearn.metrics import confusion_matrix\n",
    "from sklearn.preprocessing import minmax_scale\n",
    "\n",
    "titanic_df[[\"Age\",\"Fare\"]] = minmax_scale(titanic_df[[\"Age\",\"Fare\"]])\n",
    "\n",
    "X = titanic_df.drop('Survived', axis = 1)\n",
    "y = titanic_df['Survived']\n",
    "X_train, X_test, y_train, y_test =(\n",
    "    train_test_split(X, y, test_size = 0.3)\n",
    ")\n",
    "model = LogisticRegression()\n",
    "model.fit(X_train, y_train)\n",
    "y_hat = model.predict(X_test)\n",
    "\n",
    "def print_title(title): print(f\"{title:^50}\\n{'='*50}\")\n",
    "    \n",
    "print_title(\"Classification Report\")\n",
    "print(classification_report(y_test, y_hat))\n",
    "print_title(\"Confusion Matrix\")\n",
    "print(confusion_matrix(y_test, y_hat))"
   ],
   "outputs": [
    {
     "output_type": "stream",
     "name": "stdout",
     "text": [
      "              Classification Report               \n",
      "==================================================\n",
      "              precision    recall  f1-score   support\n",
      "\n",
      "           0       0.84      0.87      0.85       178\n",
      "           1       0.71      0.67      0.69        89\n",
      "\n",
      "    accuracy                           0.80       267\n",
      "   macro avg       0.78      0.77      0.77       267\n",
      "weighted avg       0.80      0.80      0.80       267\n",
      "\n",
      "                 Confusion Matrix                 \n",
      "==================================================\n",
      "[[154  24]\n",
      " [ 29  60]]\n"
     ]
    }
   ],
   "metadata": {}
  },
  {
   "cell_type": "markdown",
   "source": [
    "### Program 2 - Logistic regression for diabetes prediction( From scrath vs using Scikit Learn) "
   ],
   "metadata": {}
  },
  {
   "cell_type": "markdown",
   "source": [
    "#### AIM:\n",
    "To implement Logistic regression using Gradient descent from scratch and compare it with Logistic regression with Scikit Learn"
   ],
   "metadata": {}
  },
  {
   "cell_type": "markdown",
   "source": [
    "#### FORMULA:\n",
    "\n",
    "$$\\text{Log-likelihood}, LL= \\sum_{i=1}^{m}y_i log(p_i)+(1-y_i) log(1-p_i)$$ \n",
    "where, $$p_i = p( \\vect{x}_i,\\vect{w}) = \\frac{1}{1+e^{-\\vect{w}^T\\vect{x}_i}}$$ \n",
    "$\\vect{w} = (w_0,w_1,...,w_n)$ - weight vector  \n",
    "$\\vect{x}_i = (1, x_1, x_2,...,x_n)$ - $i$th input vector\n",
    "\n",
    "\n",
    "To find $\\vect{w}$ such that,$$\\max_{\\vect{w}}{LL} = \\min_{\\vect{w}}(-LL)$$\n",
    "gradient of $-LL$, $$\\frac{d(-LL)}{d\\vect{w}} = \\sum_{i=1}^{m}(p_i-y_i) \\vect{x}_i$$\n",
    "weight update step is given by,\n",
    "$$\\vect{w} := \\vect{w} - \\alpha \\frac{d(-LL)}{d\\vect{w}}\n",
    "= \\vect{w} - \\alpha \\sum_{i=1}^{m}(p_i-y_i)\\vect{x}_i\n",
    "=\\vect{w} - \\alpha (\\vect{p}-\\vect{y})^T X$$\n",
    "where $\\alpha$ - learning rate"
   ],
   "metadata": {}
  },
  {
   "cell_type": "markdown",
   "source": [
    "#### Part 1 - Defining Class for Logistic Regression"
   ],
   "metadata": {}
  },
  {
   "cell_type": "code",
   "execution_count": 15,
   "source": [
    "import numpy as np\n",
    "import pandas as pd"
   ],
   "outputs": [],
   "metadata": {}
  },
  {
   "cell_type": "code",
   "execution_count": 16,
   "source": [
    "\n",
    "class LogitRegression() :\n",
    "    def __init__( self, learning_rate, iterations) :\n",
    "        self.learning_rate = learning_rate\n",
    "        self.iterations = iterations\n",
    "\n",
    "    def p(self,X):\n",
    "        return 1/(1+np.exp(-(X @ self.w)))\n",
    "\n",
    "    def fit(self, X, y) :\n",
    "        m,n = X.shape\n",
    "        X = np.hstack([np.ones((m,1)),X])\n",
    "        y = y.squeeze()\n",
    "        self.w = np.zeros(n+1)\n",
    "        \n",
    "        for i in range(self.iterations) :\n",
    "            self.w = self.w - self.learning_rate * ((self.p(X)-y) @ X) \n",
    "\n",
    "    def predict(self, X) :\n",
    "        m = X.shape[0]\n",
    "        X = np.hstack([np.ones((m,1)),X])\n",
    "        y_hat = np.where( self.p(X) > 0.5, 1, 0 )\n",
    "        return y_hat"
   ],
   "outputs": [],
   "metadata": {}
  },
  {
   "cell_type": "markdown",
   "source": [
    "#### Part 2 - Loading and Processing Dataset"
   ],
   "metadata": {}
  },
  {
   "cell_type": "code",
   "execution_count": 17,
   "source": [
    "from sklearn.preprocessing import minmax_scale\n",
    "from sklearn.model_selection import train_test_split\n",
    "from sklearn.linear_model import LogisticRegression"
   ],
   "outputs": [],
   "metadata": {}
  },
  {
   "cell_type": "code",
   "execution_count": 18,
   "source": [
    "\n",
    "diabetes_df = pd.read_csv( \"./datasets/diabetes.csv\" )\n",
    "X = minmax_scale(diabetes_df.iloc[:,:-1].values)\n",
    "y = diabetes_df.iloc[:,-1:].values.reshape(-1)\n",
    "X_train, X_test, y_train, y_test =train_test_split(\n",
    "    X, y, test_size = 1/3, random_state =6\n",
    ")"
   ],
   "outputs": [],
   "metadata": {}
  },
  {
   "cell_type": "markdown",
   "source": [
    "#### Part 3 - Comparing Models"
   ],
   "metadata": {}
  },
  {
   "cell_type": "code",
   "execution_count": 19,
   "source": [
    "\n",
    "models = [\n",
    "    LogitRegression(learning_rate = .1, iterations = 1000),\n",
    "    LogisticRegression()\n",
    "]\n",
    "for model in models:\n",
    "    model.fit(X_train,y_train)\n",
    "    \n",
    "def compute_accuracy(model,X_test,y_test):\n",
    "    y_hat = model.predict(X_test)\n",
    "    return (y_hat==y_test).mean() * 100 \n",
    "\n",
    "print(\"Accuracy on test set by our implementation of Logistic Reg model :\",\n",
    "    compute_accuracy(models[0],X_test,y_test)\n",
    ")\n",
    "print(\"Accuracy on test set by sklearn model :\",\n",
    "    compute_accuracy(models[1],X_test,y_test) \n",
    ")"
   ],
   "outputs": [
    {
     "output_type": "stream",
     "name": "stdout",
     "text": [
      "Accuracy on test set by our implementation of Logistic Reg model : 64.0625\n",
      "Accuracy on test set by sklearn model : 78.515625\n"
     ]
    }
   ],
   "metadata": {}
  }
 ],
 "metadata": {
  "interpreter": {
   "hash": "7023248c40563a766f3ae9a0fc81476c1e46277ee22e162240a9cb41b674a272"
  },
  "kernelspec": {
   "display_name": "Python 3.8.3 64-bit ('test': conda)",
   "name": "python3"
  },
  "language_info": {
   "name": "python",
   "version": ""
  }
 },
 "nbformat": 4,
 "nbformat_minor": 4
}